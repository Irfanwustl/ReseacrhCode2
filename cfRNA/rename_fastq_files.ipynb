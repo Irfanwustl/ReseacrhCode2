{
 "cells": [
  {
   "cell_type": "code",
   "execution_count": 1,
   "id": "d69291f8-3f00-4189-ab15-0e79bdaae67e",
   "metadata": {},
   "outputs": [],
   "source": [
    "import os\n",
    "\n",
    "# Specify the path to the parent directory containing the subfolders\n",
    "parent_dir = '/logo2/irfan/Bladder_cfRNA_project/ForSalmonRun/Bladder_cfRNA_combined'\n",
    "\n",
    "# Walk through all subdirectories and files in the parent directory\n",
    "for subdir, dirs, files in os.walk(parent_dir):\n",
    "    for file in files:\n",
    "        # Check if the file has the .fastq.gz extension\n",
    "        if file.endswith('.fastq.gz'):\n",
    "            # Construct the old file path\n",
    "            old_file_path = os.path.join(subdir, file)\n",
    "            # Create the new file name by inserting _a before the .fastq.gz part\n",
    "            new_file_name = file.replace('.fastq.gz', '_a.fastq.gz')\n",
    "            # Construct the new file path\n",
    "            new_file_path = os.path.join(subdir, new_file_name)\n",
    "            # Rename the file\n",
    "            os.rename(old_file_path, new_file_path)\n",
    "            #print(f'Renamed \"{old_file_path}\" to \"{new_file_path}\"')\n"
   ]
  }
 ],
 "metadata": {
  "kernelspec": {
   "display_name": "Python 3 (ipykernel)",
   "language": "python",
   "name": "python3"
  },
  "language_info": {
   "codemirror_mode": {
    "name": "ipython",
    "version": 3
   },
   "file_extension": ".py",
   "mimetype": "text/x-python",
   "name": "python",
   "nbconvert_exporter": "python",
   "pygments_lexer": "ipython3",
   "version": "3.8.13"
  }
 },
 "nbformat": 4,
 "nbformat_minor": 5
}
