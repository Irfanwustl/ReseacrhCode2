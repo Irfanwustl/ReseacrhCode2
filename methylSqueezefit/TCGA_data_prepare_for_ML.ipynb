{
 "cells": [
  {
   "cell_type": "code",
   "execution_count": null,
   "id": "e5aa87e2-caae-4ff9-a7a1-b4cf4421d373",
   "metadata": {},
   "outputs": [
    {
     "name": "stderr",
     "output_type": "stream",
     "text": [
      "Processing files:  74%|███████████████████████████████████████████████████████████████████████████████████████████████████████████████████████████████████▏                                              | 7807/10592 [14:22<10:37,  4.37it/s]"
     ]
    }
   ],
   "source": [
    "import pandas as pd\n",
    "import os\n",
    "from tqdm import tqdm\n",
    "\n",
    "data_folder_path = '/logo2/irfan/TCGA/TCGA_from_LTMEwork/TCGA_convertedto_MONOD2/TCGA_ready_monod2_intersectedSortedMerged_std_filtered_cpg5_std0.1_head'\n",
    "\n",
    "final_df = pd.DataFrame()\n",
    "\n",
    "# Ensure the output path is correctly formed, especially if data_folder_path ends with a slash\n",
    "if data_folder_path.endswith('/'):\n",
    "    output_file_path = f\"{data_folder_path[:-1]}_Allmatrix\"\n",
    "else:\n",
    "    output_file_path = f\"{data_folder_path}_Allmatrix\"\n",
    "\n",
    "for file_name in tqdm(os.listdir(data_folder_path), desc='Processing files'):\n",
    "    if file_name.endswith('.bedgraph'):\n",
    "        file_path = os.path.join(data_folder_path, file_name)\n",
    "        try:\n",
    "            df = pd.read_csv(file_path, sep='\\t', header=None, names=['chrom', 'start', 'end', 'value'])\n",
    "            df['feature'] = df['chrom'].astype(str) + ':' + df['start'].astype(str) + '-' + df['end'].astype(str)\n",
    "            sample_name = file_name.rsplit('.', 1)[0]\n",
    "\n",
    "            sample_df = pd.DataFrame(df['value'].values, index=df['feature'], columns=[sample_name])\n",
    "            \n",
    "            if final_df.empty:\n",
    "                final_df = sample_df\n",
    "            else:\n",
    "                final_df = final_df.join(sample_df, how='outer')\n",
    "                \n",
    "        except Exception as e:\n",
    "            print(f\"Error processing {file_name}: {e}\")\n",
    "\n",
    "final_df.to_csv(output_file_path, sep='\\t', na_rep='NA')"
   ]
  },
  {
   "cell_type": "code",
   "execution_count": null,
   "id": "610682ff-5b0a-4c7b-a9ec-076106adef02",
   "metadata": {},
   "outputs": [],
   "source": [
    "final_df.shape"
   ]
  },
  {
   "cell_type": "code",
   "execution_count": null,
   "id": "334471ac-383d-443c-9dde-204c43ce11f7",
   "metadata": {},
   "outputs": [],
   "source": [
    "\n",
    "\n",
    "# Define the substrings to look for in column names\n",
    "substrings = ['_Tumor', 'Metastatic', '_Normal','_Cancer']\n",
    "\n",
    "# List to keep track of columns that do not contain any of the specified substrings\n",
    "columns_without_substrings = []\n",
    "\n",
    "# Function to truncate column names and check for substrings\n",
    "def truncate_column_name(name):\n",
    "    for substring in substrings:\n",
    "        index = name.find(substring)\n",
    "        if index != -1:\n",
    "            return name[:index + len(substring)]\n",
    "    # If the loop completes without returning, the substring wasn't found\n",
    "    columns_without_substrings.append(name)\n",
    "    return name\n",
    "\n",
    "# Apply the function to each column name\n",
    "final_df.columns = [truncate_column_name(col) for col in final_df.columns]\n",
    "\n",
    "# Check if the list of columns without substrings is empty\n",
    "if columns_without_substrings:\n",
    "    print(\"The following columns do not contain any of the specified substrings:\")\n",
    "    print(len(columns_without_substrings))\n",
    "else:\n",
    "    print(\"All column names contain at least one of the specified substrings.\")\n",
    "\n",
    "# Display the updated column names (optional)\n",
    "#print(final_df.shape)\n"
   ]
  },
  {
   "cell_type": "code",
   "execution_count": null,
   "id": "0bd21e26-29d4-4155-8473-85b562dd8b0a",
   "metadata": {},
   "outputs": [],
   "source": [
    "columns_without_substrings"
   ]
  },
  {
   "cell_type": "code",
   "execution_count": null,
   "id": "a51d463f-f4a6-4fdf-a10e-6bad258ff93d",
   "metadata": {},
   "outputs": [],
   "source": [
    "# Get the set of unique column names\n",
    "unique_column_names = set(final_df.columns)\n",
    "\n",
    "\n",
    "\n",
    "print(len(unique_column_names))\n",
    "# Print the unique column names\n",
    "#print(unique_column_names)"
   ]
  },
  {
   "cell_type": "code",
   "execution_count": null,
   "id": "8eb175ee-2dd2-4855-a020-fceba3c21170",
   "metadata": {},
   "outputs": [],
   "source": [
    "output_file_path = output_file_path+\"_ML\""
   ]
  },
  {
   "cell_type": "code",
   "execution_count": null,
   "id": "14fac247-7f85-43d3-9501-ab1100412962",
   "metadata": {},
   "outputs": [],
   "source": [
    "# Calculate the frequency of each unique column name\n",
    "column_name_frequencies = final_df.columns.value_counts()\n",
    "\n",
    "# Define the path for the output file\n",
    "output_file_path = output_file_path+'_column_name_frequencies.txt'\n",
    "\n",
    "# Save the frequencies to a tab-separated file\n",
    "column_name_frequencies.to_csv(output_file_path, sep='\\t', header=False)\n",
    "\n"
   ]
  },
  {
   "cell_type": "code",
   "execution_count": null,
   "id": "84403db6-b2a3-4a58-a4b1-c4696311335c",
   "metadata": {},
   "outputs": [],
   "source": [
    "#display(final_df.head())"
   ]
  },
  {
   "cell_type": "code",
   "execution_count": null,
   "id": "ff735cba-33f5-449d-9a37-7b0ca29330ef",
   "metadata": {},
   "outputs": [],
   "source": [
    "#import pandas as pd\n",
    "\n",
    "# Convert the index into a column if 'feature' is the index\n",
    "final_df.reset_index(inplace=True)\n",
    "\n",
    "# Assuming final_df is already loaded and 'feature' is a column\n",
    "\n",
    "# Split the 'feature' column into 'chrom', 'start', and 'end'\n",
    "final_df[['chrom', 'positions']] = final_df['feature'].str.split(':', expand=True)\n",
    "final_df[['start', 'end']] = final_df['positions'].str.split('-', expand=True)\n",
    "\n",
    "# Convert 'start' to integer for sorting\n",
    "final_df['start'] = final_df['start'].astype(int)\n",
    "final_df['end'] = final_df['end'].astype(int)\n",
    "\n",
    "# Sort by 'chrom' and 'start'\n",
    "# Note: If chromosomes are not in the format 'chr1', 'chr2', ..., 'chrX', 'chrY', 'chrM', \n",
    "# this method may not sort chromosomes correctly and you'll need a custom sort.\n",
    "final_df_sorted = final_df.sort_values(by=['chrom', 'start'])\n",
    "\n",
    "\n",
    "\n",
    "# Drop the extra columns\n",
    "final_df_sorted.drop(['chrom', 'start', 'end', 'positions','index'], axis=1, inplace=True)\n",
    "\n",
    "# Now, if you previously reset the index to make 'feature' a column, you should set it back as the index\n",
    "final_df_sorted.set_index('feature', inplace=True)\n",
    "\n",
    "# Display to check\n",
    "display(final_df_sorted.head())\n"
   ]
  },
  {
   "cell_type": "code",
   "execution_count": null,
   "id": "fd0f25f0-25d2-40c0-86a2-133def8fac82",
   "metadata": {},
   "outputs": [],
   "source": [
    "\n",
    "final_df_sorted.to_csv(output_file_path+\"_sorted.txt\", sep='\\t', na_rep='NA')\n",
    "print('done')"
   ]
  }
 ],
 "metadata": {
  "kernelspec": {
   "display_name": "Python 3 (ipykernel)",
   "language": "python",
   "name": "python3"
  },
  "language_info": {
   "codemirror_mode": {
    "name": "ipython",
    "version": 3
   },
   "file_extension": ".py",
   "mimetype": "text/x-python",
   "name": "python",
   "nbconvert_exporter": "python",
   "pygments_lexer": "ipython3",
   "version": "3.8.13"
  }
 },
 "nbformat": 4,
 "nbformat_minor": 5
}
