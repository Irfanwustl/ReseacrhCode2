{
 "cells": [
  {
   "cell_type": "markdown",
   "id": "ea761294-664d-4a17-aaa4-d92162e5c190",
   "metadata": {},
   "source": [
    "A genomic feature like promoter may have different positions for a single gene. But we need to use one feature (promoter)\n",
    "per gene. We will use the feature which has more common reporters (more CpG).\n",
    "\n",
    "* TODO after first version: The prblem of this way is that it will be data dependent. A better version can be intersect the Hg38 CpG positions with the features and find out what is the best. Do it in a seperate notebook as the current version may also be usefull if there is a lot of NA."
   ]
  }
 ],
 "metadata": {
  "kernelspec": {
   "display_name": "Python 3 (ipykernel)",
   "language": "python",
   "name": "python3"
  },
  "language_info": {
   "codemirror_mode": {
    "name": "ipython",
    "version": 3
   },
   "file_extension": ".py",
   "mimetype": "text/x-python",
   "name": "python",
   "nbconvert_exporter": "python",
   "pygments_lexer": "ipython3",
   "version": "3.8.13"
  }
 },
 "nbformat": 4,
 "nbformat_minor": 5
}
