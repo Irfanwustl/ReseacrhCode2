{
 "cells": [
  {
   "cell_type": "code",
   "execution_count": null,
   "id": "12037236-8a5c-485f-9d65-7f52d782cbaf",
   "metadata": {},
   "outputs": [],
   "source": [
    "import pandas as pd\n",
    "import numpy as np\n",
    "import seaborn as sns\n",
    "import matplotlib.pyplot as plt\n",
    "\n",
    "# Replace this with the path to your file\n",
    "file_path = '/logo2/irfan/Bladder2/BWA_output_Arpit_motifs_4.txt'\n",
    "\n",
    "# Read the data\n",
    "# Assuming your data is tab-separated; if it's comma-separated, use sep=',' instead\n",
    "df = pd.read_csv(file_path, sep='\\t', index_col=0)\n",
    "\n",
    "# Calculate total counts for each sample (column)\n",
    "total_counts = df.sum(axis=0)\n",
    "\n",
    "# Normalize to Counts Per Million (CPM)\n",
    "df_cpm = df.divide(total_counts, axis=1) * 1e6\n",
    "\n",
    "display(df_cpm.head())"
   ]
  }
 ],
 "metadata": {
  "kernelspec": {
   "display_name": "Python 3 (ipykernel)",
   "language": "python",
   "name": "python3"
  },
  "language_info": {
   "codemirror_mode": {
    "name": "ipython",
    "version": 3
   },
   "file_extension": ".py",
   "mimetype": "text/x-python",
   "name": "python",
   "nbconvert_exporter": "python",
   "pygments_lexer": "ipython3",
   "version": "3.8.13"
  }
 },
 "nbformat": 4,
 "nbformat_minor": 5
}
